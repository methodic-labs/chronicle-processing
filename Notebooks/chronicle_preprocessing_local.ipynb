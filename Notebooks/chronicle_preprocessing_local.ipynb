{
 "cells": [
  {
   "cell_type": "markdown",
   "id": "22f8472f",
   "metadata": {},
   "source": [
    "### Instructions for preprocessing Chronicle data from your computer, using this notebook\n",
    "Read the `README`at the [methodic-labs](https://github.com/methodic-labs/chronicle-processing) GitHub page and complete steps 1-3 to clone the repo and install the `pymethodic2` helper library.  \n",
    "  \n",
    "This code will output preprocessed data as a csv onto your local computer."
   ]
  },
  {
   "cell_type": "code",
   "execution_count": 1,
   "id": "bcbcbb08",
   "metadata": {},
   "outputs": [],
   "source": [
    "from datetime import datetime, timedelta\n",
    "import sqlalchemy as sq\n",
    "import pandas as pd\n",
    "import dateutil\n",
    "import pendulum\n",
    "import pytz\n"
   ]
  },
  {
   "cell_type": "markdown",
   "id": "c8ae954d",
   "metadata": {},
   "source": [
    "#### Step 1.\n",
    "1. Clone the repo `methodic-labs` from GitHub somewhere onto your computer.\n",
    "2. Insert the filepath to the `chronicle-processing` repo below, with the `sys.path.insert` call on Line 3.  \n",
    "* replace the `<filepath>` placeholder with yyour filepath, including carats.\n"
   ]
  },
  {
   "cell_type": "code",
   "execution_count": 2,
   "id": "92cdd70d",
   "metadata": {},
   "outputs": [],
   "source": [
    "import sys\n",
    "\n",
    "sys.path.insert(0, '<filepath>') #e.g., /Users/kimengie/Dev/methodic-labs/chronicle-processing\n",
    "\n",
    "from pymethodic2 import utils as ut\n",
    "from pymethodic2 import preprocessing \n",
    "from preprocessing_functions_methodic  import * \n",
    "from chronicle_preprocessing_methodic import *"
   ]
  },
  {
   "cell_type": "markdown",
   "id": "0b4a6e98",
   "metadata": {},
   "source": [
    "**Step 2.**  \n",
    "Download a bunch of csvs or raw data from [Chronicle](https://app.getmethodic.com/chronicle/#/login), and put them in a folder somewhere. They should all be raw data, and **from the same study.**\n",
    "* Input the filepath to the csvs below. **Replace the `<filepath>` (including carats) with your filepath.**\n",
    "* Note this code will not work unless you have successfully installed the `pymethodic2` library first."
   ]
  },
  {
   "cell_type": "code",
   "execution_count": null,
   "id": "445b6c48",
   "metadata": {},
   "outputs": [],
   "source": [
    "input_filepath = (<filepath>) # e.g., \"/Users/myname/Documents/myfolder/\"\n",
    "\n",
    "\n",
    "## Get raw data - from dowloaded csvs from the Methodic app\n",
    "raw = ut.read_and_union_csvs(input_filepath)\n",
    "raw.head(3)"
   ]
  },
  {
   "cell_type": "markdown",
   "id": "145f2ae2",
   "metadata": {},
   "source": [
    "#### Step 3. Preprocess the raw data\n",
    "* This code will also generate a unique \"run ID\" for your preprocessing run, and a text file that outputs a processing log.\n"
   ]
  },
  {
   "cell_type": "code",
   "execution_count": 5,
   "id": "f0a86d68",
   "metadata": {},
   "outputs": [],
   "source": [
    "# This will generate a random run ID, needed for processing\n",
    "run_id = pendulum.now().strftime('%Y-%m%d-%H%M%S-') + str(uuid4()) \n",
    "\n",
    "# This will create a text file in your working directory that logs the output of the preprocessing run. \n",
    "# Name it whatever you like.\n",
    "logger = ut.write_to_log(run_id, 'preprocessing_output.log')\n",
    "\n",
    "\n",
    "###  PROCESSING STEP\n",
    "processed = chronicle_process(raw, run_id)\n",
    "processed.head(3)"
   ]
  },
  {
   "cell_type": "markdown",
   "id": "a95e603d",
   "metadata": {},
   "source": [
    "#### Step 4. Save results as a csv"
   ]
  },
  {
   "cell_type": "code",
   "execution_count": null,
   "id": "bc1cb5b6",
   "metadata": {},
   "outputs": [],
   "source": [
    "# A csv will be saved to your working directory.\n",
    "processed.to_csv('output.csv', header=True, index=False)"
   ]
  },
  {
   "cell_type": "code",
   "execution_count": null,
   "id": "c1e6fb4a",
   "metadata": {},
   "outputs": [],
   "source": []
  }
 ],
 "metadata": {
  "kernelspec": {
   "display_name": "Python 3",
   "language": "python",
   "name": "python3"
  },
  "language_info": {
   "codemirror_mode": {
    "name": "ipython",
    "version": 3
   },
   "file_extension": ".py",
   "mimetype": "text/x-python",
   "name": "python",
   "nbconvert_exporter": "python",
   "pygments_lexer": "ipython3",
   "version": "3.7.10"
  }
 },
 "nbformat": 4,
 "nbformat_minor": 5
}
