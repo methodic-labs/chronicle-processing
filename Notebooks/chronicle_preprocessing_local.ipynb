{
 "cells": [
  {
   "cell_type": "markdown",
   "id": "ae636f7c",
   "metadata": {},
   "source": [
    "## Instructions for preprocessing Chronicle data from your computer, using this notebook\n",
    "Read the `README`at the [methodic-labs](https://github.com/methodic-labs/chronicle-processing) GitHub page and complete steps 1-3 to clone the repo and install the `pymethodic2` helper library.  \n",
    "\n",
    "**Clone the repo `methodic-labs` from GitHub somewhere onto your computer.**  \n",
    "  \n",
    "This code will output preprocessed data as a csv onto your local computer."
   ]
  },
  {
   "cell_type": "markdown",
   "id": "69bc97f5",
   "metadata": {},
   "source": [
    "### Step 1. Import needed libraries "
   ]
  },
  {
   "cell_type": "code",
   "execution_count": null,
   "id": "d076854d",
   "metadata": {},
   "outputs": [],
   "source": [
    "from uuid import uuid4\n",
    "import pandas as pd\n",
    "import pendulum\n",
    "import pytz\n",
    "import sys"
   ]
  },
  {
   "cell_type": "markdown",
   "id": "aeba1d94",
   "metadata": {},
   "source": [
    "1. Insert the filepath to the `chronicle-processing` repo below, with the `sys.path.insert` call on Line 3.  \n",
    "* replace the `<filepath>` placeholder with your filepath, including carats."
   ]
  },
  {
   "cell_type": "code",
   "execution_count": null,
   "id": "1d9acdbd",
   "metadata": {},
   "outputs": [],
   "source": [
    "sys.path.insert(0, '<filepath>') #e.g., /Users/kimengie/Dev/methodic-labs/chronicle-processing\n",
    "\n",
    "from pymethodic2 import utils as ut\n",
    "from pymethodic2 import preprocessing \n",
    "from preprocessing_functions_methodic  import * "
   ]
  },
  {
   "cell_type": "markdown",
   "id": "0ada2657",
   "metadata": {},
   "source": [
    "### Step 2. Load one or multiple csvs of raw data\n",
    "Then download a bunch of csvs or raw data from [Chronicle](https://app.getmethodic.com/chronicle/#/login), and put them in a folder somewhere. They should all be raw data, and **from the same study.**  \n",
    "\n",
    "If you want to preprocess just one csv, follow the same instructions and place it in a folder, **alone**, on your computer.   \n",
    "* Input the filepath to the csvs below. **Replace the `<filepath>` (including carats) with your filepath.**\n",
    "  * this is not the same filepath as the one to your library above  \n",
    "* Note this code will not work unless you have successfully installed the `pymethodic2` library first.\n",
    "  \n",
    "> Debug tip: Check the combined data with the call to `raw.head(3)`. If there are other csvs of different data formats in the folder, some extra columns will likely result that the preprocessing is not expecting, causing it to error (in the next step)."
   ]
  },
  {
   "cell_type": "code",
   "execution_count": null,
   "id": "53768772",
   "metadata": {},
   "outputs": [],
   "source": [
    "input_csv_filepath = (<filepath>) # e.g., \"/Users/myname/Documents/myfolder/\"\n",
    "\n",
    "## Get raw data - from dowloaded csvs from the Methodic app\n",
    "raw = ut.read_and_union_csvs(input_csv_filepath)\n",
    "raw.head(3)"
   ]
  },
  {
   "cell_type": "markdown",
   "id": "8faf6888",
   "metadata": {},
   "source": [
    "### Step 3. Preprocess the raw data"
   ]
  },
  {
   "cell_type": "markdown",
   "id": "e86e9981",
   "metadata": {},
   "source": [
    "* This code will also generate a unique \"run ID\" for your preprocessing run, and a text file that outputs a processing log.\n"
   ]
  },
  {
   "cell_type": "code",
   "execution_count": null,
   "id": "9006ea8a",
   "metadata": {},
   "outputs": [],
   "source": [
    "# This will generate a random run ID, needed for processing\n",
    "run_id = pendulum.now().strftime('%Y-%m%d-%H%M%S-') + str(uuid4()) \n",
    "\n",
    "# This will create a text file in your working directory that logs the output of the preprocessing run. \n",
    "# Name it whatever you like.\n",
    "logger = ut.write_to_log(run_id, 'preprocessing_output.log')\n",
    "\n",
    "\n",
    "###  PROCESSING STEP\n",
    "processed = chronicle_process(raw, run_id)\n",
    "processed.head(3)"
   ]
  },
  {
   "cell_type": "markdown",
   "id": "6dfdbdcd",
   "metadata": {},
   "source": [
    "### Step 4. Save results as a csv"
   ]
  },
  {
   "cell_type": "code",
   "execution_count": null,
   "id": "b4b863e4",
   "metadata": {},
   "outputs": [],
   "source": [
    "# A csv will be saved to your working directory.\n",
    "processed.to_csv('output.csv', header=True, index=False)"
   ]
  },
  {
   "cell_type": "code",
   "execution_count": null,
   "id": "f634fea4",
   "metadata": {},
   "outputs": [],
   "source": []
  }
 ],
 "metadata": {
  "kernelspec": {
   "display_name": "Python 3",
   "language": "python",
   "name": "python3"
  },
  "language_info": {
   "codemirror_mode": {
    "name": "ipython",
    "version": 3
   },
   "file_extension": ".py",
   "mimetype": "text/x-python",
   "name": "python",
   "nbconvert_exporter": "python",
   "pygments_lexer": "ipython3",
   "version": "3.7.10"
  }
 },
 "nbformat": 4,
 "nbformat_minor": 5
}
